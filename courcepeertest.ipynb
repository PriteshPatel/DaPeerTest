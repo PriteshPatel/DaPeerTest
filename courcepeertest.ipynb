{
 "cells": [
  {
   "cell_type": "markdown",
   "metadata": {},
   "source": [
    "Peer-graded Assignment: Submit Your Work and Grade Your Peers"
   ]
  },
  {
   "cell_type": "markdown",
   "metadata": {},
   "source": [
    "## Introduction\n",
    "\n",
    "Congratulations on finishing all the modules of this course. This week, you'll work on your final assignment, which will be graded by your peers. \n",
    "\n",
    "This course introduced you to multiple data science tools, and in this final project, you will use Jupyterlite Notebook, one of the easiest tools to share publicly. \n",
    "\n",
    "Leveraging Jupyterlite Notebook on Skills Network labs, you will create your Jupyterlite Notebook (in English) and share it via a public GitHub link.\n"
   ]
  },
  {
   "cell_type": "markdown",
   "metadata": {},
   "source": [
    "## Data Science Languages\n",
    "\n",
    "In the field of data science, several programming languages are commonly used for analysis, modeling, and visualization. Some of the most popular data science languages include:\n",
    "\n",
    "- **Python**: Widely used for its simplicity and extensive libraries such as NumPy, pandas, Matplotlib, and scikit-learn.\n",
    "- **R**: Known for its statistical computing capabilities and packages like ggplot2, dplyr, and tidyr.\n",
    "- **SQL**: Essential for managing and querying relational databases.\n",
    "- **Julia**: Gaining popularity for its high performance in numerical and scientific computing.\n",
    "- **SAS**: A software suite used for advanced analytics, multivariate analysis, and business intelligence.\n",
    "- **MATLAB**: Often used in academia and engineering for data analysis and visualization.\n"
   ]
  },
  {
   "cell_type": "markdown",
   "metadata": {},
   "source": [
    "## Data Science Libraries\n",
    "\n",
    "There are numerous libraries and frameworks that are essential for data science tasks, providing tools for data manipulation, analysis, visualization, and machine learning. Some of the most widely used data science libraries include:\n",
    "\n",
    "- **NumPy**: Fundamental package for numerical computing with Python.\n",
    "- **pandas**: Powerful data manipulation and analysis library.\n",
    "- **Matplotlib**: Comprehensive library for creating static, animated, and interactive visualizations in Python.\n",
    "- **Seaborn**: Statistical data visualization library based on Matplotlib, providing a high-level interface for drawing attractive and informative statistical graphics.\n",
    "- **scikit-learn**: Robust library for machine learning, providing simple and efficient tools for data mining and data analysis.\n",
    "- **TensorFlow**: Open-source library for machine learning and deep learning developed by Google.\n",
    "- **Keras**: High-level neural networks API, written in Python and capable of running on top of TensorFlow, CNTK, or Theano.\n",
    "- **PyTorch**: Deep learning framework that provides a seamless path from research prototyping to production deployment.\n",
    "- **Statsmodels**: Provides classes and functions for the estimation of many different statistical models, as well as for conducting statistical tests.\n",
    "- **SciPy**: Library used for scientific and technical computing.\n",
    "- **NLTK**: Library for working with human language data (text processing and computational linguistics).\n",
    "- **Plotly**: Interactive graphing library for making interactive, publication-quality graphs.\n"
   ]
  },
  {
   "cell_type": "markdown",
   "metadata": {},
   "source": [
    "## Data Science Tools\n",
    "\n",
    "Data science involves the use of various tools for data processing, analysis, visualization, and machine learning. Below is a table of some popular data science tools and their primary uses:\n",
    "\n",
    "| Tool          | Primary Use                                  |\n",
    "|---------------|----------------------------------------------|\n",
    "| Jupyter       | Interactive computing and notebook creation  |\n",
    "| RStudio       | Integrated development environment for R     |\n",
    "| Apache Spark  | Big data processing and analytics            |\n",
    "| Hadoop        | Distributed storage and processing of large datasets |\n",
    "| Tableau       | Data visualization and business intelligence |\n",
    "| KNIME         | Data analytics, reporting, and integration   |\n",
    "| RapidMiner    | Data preparation, machine learning, and model deployment |\n",
    "| MATLAB        | Numerical computing and algorithm development|\n",
    "| Excel         | Data manipulation, analysis, and visualization |\n",
    "| Orange        | Data mining and machine learning             |\n"
   ]
  },
  {
   "cell_type": "markdown",
   "metadata": {},
   "source": [
    "## Arithmetic Expression Examples\n",
    "\n",
    "Arithmetic expressions are mathematical statements that include numbers, operators, and sometimes variables. They are used to perform calculations and can be simple or complex. Below are some examples of basic arithmetic expressions:\n",
    "\n",
    "- **Addition**: `5 + 3 = 8`\n",
    "- **Subtraction**: `10 - 4 = 6`\n",
    "- **Multiplication**: `7 * 2 = 14`\n",
    "- **Division**: `20 / 5 = 4`\n",
    "- **Exponentiation**: `2^3 = 8`\n",
    "\n",
    "These expressions form the foundation of more complex mathematical computations and are used extensively in data science and programming.\n"
   ]
  },
  {
   "cell_type": "code",
   "execution_count": 1,
   "metadata": {},
   "outputs": [
    {
     "name": "stdout",
     "output_type": "stream",
     "text": [
      "Multiplication Result (5 * 3): 15\n",
      "Addition Result (5 + 7): 12\n"
     ]
    }
   ],
   "source": [
    "# Multiplication and Addition\n",
    "\n",
    "# Define the numbers\n",
    "a = 5\n",
    "b = 3\n",
    "c = 7\n",
    "\n",
    "# Perform multiplication\n",
    "multiplication_result = a * b\n",
    "\n",
    "# Perform addition\n",
    "addition_result = a + c\n",
    "\n",
    "# Print the results\n",
    "print(\"Multiplication Result (5 * 3):\", multiplication_result)\n",
    "print(\"Addition Result (5 + 7):\", addition_result)"
   ]
  },
  {
   "cell_type": "code",
   "execution_count": 2,
   "metadata": {},
   "outputs": [
    {
     "name": "stdout",
     "output_type": "stream",
     "text": [
      "150 minutes is equal to 2.5 hours.\n"
     ]
    }
   ],
   "source": [
    "# Conversion of minutes to hours\n",
    "\n",
    "# Define the number of minutes\n",
    "minutes = 150\n",
    "\n",
    "# Convert minutes to hours\n",
    "hours = minutes / 60\n",
    "\n",
    "# Print the result\n",
    "print(f\"{minutes} minutes is equal to {hours} hours.\")\n"
   ]
  },
  {
   "cell_type": "markdown",
   "metadata": {},
   "source": [
    "## Objectives\n",
    "\n",
    "The primary objectives of this notebook are:\n",
    "\n",
    "- To understand the basics of pharmaceutical studies and healthcare management.\n",
    "- To explore various data science languages and their applications in healthcare.\n",
    "- To become familiar with essential data science libraries and tools.\n",
    "- To practice basic arithmetic operations and their implementation in Python.\n",
    "- To learn how to convert time units from minutes to hours using Python code.\n",
    "- To develop practical skills through hands-on coding exercises and examples.\n"
   ]
  },
  {
   "cell_type": "markdown",
   "metadata": {},
   "source": [
    "## Author\n",
    "\n",
    "Pritesh Patel\n"
   ]
  }
 ],
 "metadata": {
  "kernelspec": {
   "display_name": "Python 3",
   "language": "python",
   "name": "python3"
  },
  "language_info": {
   "codemirror_mode": {
    "name": "ipython",
    "version": 3
   },
   "file_extension": ".py",
   "mimetype": "text/x-python",
   "name": "python",
   "nbconvert_exporter": "python",
   "pygments_lexer": "ipython3",
   "version": "3.12.4"
  }
 },
 "nbformat": 4,
 "nbformat_minor": 2
}
